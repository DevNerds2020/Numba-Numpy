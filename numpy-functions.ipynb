{
 "cells": [
  {
   "cell_type": "code",
   "execution_count": 2,
   "metadata": {},
   "outputs": [],
   "source": [
    "import numpy as np\n",
    "import time "
   ]
  },
  {
   "cell_type": "code",
   "execution_count": 8,
   "metadata": {},
   "outputs": [],
   "source": [
    "arr = np.random.rand(100000)"
   ]
  },
  {
   "cell_type": "code",
   "execution_count": 9,
   "metadata": {},
   "outputs": [
    {
     "name": "stdout",
     "output_type": "stream",
     "text": [
      "Time taken by for loop:  6.277405738830566\n"
     ]
    }
   ],
   "source": [
    "start = time.time()\n",
    "# calculate variance without using numpy\n",
    "var = 0\n",
    "for i in range(len(arr)):\n",
    "    var += (arr[i] - arr.mean())**2\n",
    "var = var/len(arr)\n",
    "end = time.time()\n",
    "print(\"Time taken by for loop: \", end - start)"
   ]
  },
  {
   "cell_type": "code",
   "execution_count": 10,
   "metadata": {},
   "outputs": [
    {
     "name": "stdout",
     "output_type": "stream",
     "text": [
      "Time taken by numpy function:  0.0009963512420654297\n"
     ]
    }
   ],
   "source": [
    "start = time.time()\n",
    "var = np.var(arr)\n",
    "end = time.time()\n",
    "print(\"Time taken by numpy function: \", end - start)"
   ]
  },
  {
   "cell_type": "code",
   "execution_count": 15,
   "metadata": {},
   "outputs": [],
   "source": [
    "arr = np.random.rand(100000000)"
   ]
  },
  {
   "cell_type": "code",
   "execution_count": 16,
   "metadata": {},
   "outputs": [
    {
     "name": "stdout",
     "output_type": "stream",
     "text": [
      "Time taken by for loop:  30.053341388702393\n"
     ]
    }
   ],
   "source": [
    "#mean without using numpy\n",
    "start = time.time()\n",
    "mean = 0\n",
    "for i in range(len(arr)):\n",
    "    mean += arr[i]\n",
    "mean = mean/len(arr)\n",
    "end = time.time()\n",
    "print(\"Time taken by for loop: \", end - start)"
   ]
  },
  {
   "cell_type": "code",
   "execution_count": 17,
   "metadata": {},
   "outputs": [
    {
     "name": "stdout",
     "output_type": "stream",
     "text": [
      "Time taken by numpy function:  0.15722107887268066\n"
     ]
    }
   ],
   "source": [
    "#mean using numpy\n",
    "start = time.time()\n",
    "mean = np.mean(arr)\n",
    "end = time.time()\n",
    "print(\"Time taken by numpy function: \", end - start)"
   ]
  }
 ],
 "metadata": {
  "kernelspec": {
   "display_name": "Python 3",
   "language": "python",
   "name": "python3"
  },
  "language_info": {
   "codemirror_mode": {
    "name": "ipython",
    "version": 3
   },
   "file_extension": ".py",
   "mimetype": "text/x-python",
   "name": "python",
   "nbconvert_exporter": "python",
   "pygments_lexer": "ipython3",
   "version": "3.10.4"
  },
  "orig_nbformat": 4
 },
 "nbformat": 4,
 "nbformat_minor": 2
}
